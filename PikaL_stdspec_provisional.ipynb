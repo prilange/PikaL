{
 "cells": [
  {
   "cell_type": "code",
   "execution_count": 1,
   "id": "c7b2916f-fd84-4cc7-8fa3-060b75974efb",
   "metadata": {},
   "outputs": [],
   "source": [
    "import xarray as xr\n",
    "import matplotlib.pyplot as plt\n",
    "import numpy as np\n",
    "import pandas as pd\n",
    "from netCDF4 import Dataset\n",
    "import time"
   ]
  },
  {
   "cell_type": "code",
   "execution_count": 2,
   "id": "d263b9e7-d4d5-48d0-a498-a2d0f6756d4a",
   "metadata": {},
   "outputs": [],
   "source": [
    "# Open the NetCDF file\n",
    "myfile_nc = Dataset(\"20240608L1_NorsemanII_Pika_L_25-radiance-Reflectance from Radiance Data and Downwelling Irradiance Spectrum-Savitzky-Golay Smoothing.nc\", \"r\")\n"
   ]
  },
  {
   "cell_type": "code",
   "execution_count": 3,
   "id": "6cf029e5-bb3a-417f-a75d-ab6db736f3c6",
   "metadata": {},
   "outputs": [
    {
     "name": "stdout",
     "output_type": "stream",
     "text": [
      "dict_keys(['Band_1', 'Band_2', 'Band_3', 'Band_4', 'Band_5', 'Band_6', 'Band_7', 'Band_8', 'Band_9', 'Band_10', 'Band_11', 'Band_12', 'Band_13', 'Band_14', 'Band_15', 'Band_16', 'Band_17', 'Band_18', 'Band_19', 'Band_20', 'Band_21', 'Band_22', 'Band_23', 'Band_24', 'Band_25', 'Band_26', 'Band_27', 'Band_28', 'Band_29', 'Band_30', 'Band_31', 'Band_32', 'Band_33', 'Band_34', 'Band_35', 'Band_36', 'Band_37', 'Band_38', 'Band_39', 'Band_40', 'Band_41', 'Band_42', 'Band_43', 'Band_44', 'Band_45', 'Band_46', 'Band_47', 'Band_48', 'Band_49', 'Band_50', 'Band_51', 'Band_52', 'Band_53', 'Band_54', 'Band_55', 'Band_56', 'Band_57', 'Band_58', 'Band_59', 'Band_60', 'Band_61', 'Band_62', 'Band_63', 'Band_64', 'Band_65', 'Band_66', 'Band_67', 'Band_68', 'Band_69', 'Band_70', 'Band_71', 'Band_72', 'Band_73', 'Band_74', 'Band_75', 'Band_76', 'Band_77', 'Band_78', 'Band_79', 'Band_80', 'Band_81', 'Band_82', 'Band_83', 'Band_84', 'Band_85', 'Band_86', 'Band_87', 'Band_88', 'Band_89', 'Band_90', 'Band_91', 'Band_92', 'Band_93', 'Band_94', 'Band_95', 'Band_96', 'Band_97', 'Band_98', 'Band_99', 'Band_100', 'Band_101', 'Band_102', 'Band_103', 'Band_104', 'Band_105', 'Band_106', 'Band_107', 'Band_108', 'Band_109', 'Band_110', 'Band_111', 'Band_112', 'Band_113', 'Band_114', 'Band_115', 'Band_116', 'Band_117', 'Band_118', 'Band_119', 'Band_120', 'Band_121', 'Band_122', 'Band_123', 'Band_124', 'Band_125', 'Band_126', 'Band_127', 'Band_128', 'Band_129', 'Band_130', 'Band_131', 'Band_132', 'Band_133', 'Band_134', 'Band_135', 'Band_136', 'Band_137', 'Band_138', 'Band_139', 'Band_140', 'Band_141', 'Band_142', 'Band_143', 'Band_144', 'Band_145', 'Band_146', 'Band_147', 'Band_148', 'Band_149', 'Band_150', 'Band_151', 'Band_152', 'Band_153', 'Band_154', 'Band_155', 'Band_156', 'Band_157', 'Band_158', 'Band_159', 'Band_160', 'Band_161', 'Band_162', 'Band_163', 'Band_164', 'Band_165', 'Band_166', 'Band_167', 'Band_168', 'Band_169', 'Band_170', 'Band_171', 'Band_172', 'Band_173', 'Band_174', 'Band_175', 'Band_176', 'Band_177', 'Band_178', 'Band_179', 'Band_180', 'Band_181', 'Band_182', 'Band_183', 'Band_184', 'Band_185', 'Band_186', 'Band_187', 'Band_188', 'Band_189', 'Band_190', 'Band_191', 'Band_192', 'Band_193', 'Band_194', 'Band_195', 'Band_196', 'Band_197', 'Band_198', 'Band_199', 'Band_200', 'Band_201', 'Band_202', 'Band_203', 'Band_204', 'Band_205', 'Band_206', 'Band_207', 'Band_208', 'Band_209', 'Band_210', 'Band_211', 'Band_212', 'Band_213', 'Band_214', 'Band_215', 'Band_216', 'Band_217', 'Band_218', 'Band_219', 'Band_220', 'Band_221', 'Band_222', 'Band_223', 'Band_224', 'Band_225', 'Band_226', 'Band_227', 'Band_228', 'Band_229', 'Band_230', 'Band_231', 'Band_232', 'Band_233', 'Band_234', 'Band_235', 'Band_236', 'Band_237', 'Band_238', 'Band_239', 'Band_240', 'Band_241', 'Band_242', 'Band_243', 'Band_244', 'Band_245', 'Band_246', 'Band_247', 'Band_248', 'Band_249', 'Band_250', 'Band_251', 'Band_252', 'Band_253', 'Band_254', 'Band_255', 'Band_256', 'Band_257', 'Band_258', 'Band_259', 'Band_260', 'Band_261', 'Band_262', 'Band_263', 'Band_264', 'Band_265', 'Band_266', 'Band_267', 'Band_268', 'Band_269', 'Band_270', 'Band_271', 'Band_272', 'Band_273', 'Band_274', 'Band_275', 'Band_276', 'Band_277', 'Band_278', 'Band_279', 'Band_280', 'Band_281', 'Band_282', 'Band_283', 'Band_284', 'Band_285', 'Band_286', 'Band_287', 'Band_288', 'Band_289', 'Band_290', 'Band_291', 'Band_292', 'Band_293', 'Band_294', 'Band_295', 'Band_296', 'Band_297', 'Band_298', 'Band_299', 'Band_300', 'lat', 'lon'])\n"
     ]
    },
    {
     "data": {
      "text/plain": [
       "302"
      ]
     },
     "execution_count": 3,
     "metadata": {},
     "output_type": "execute_result"
    }
   ],
   "source": [
    "# Get variable names\n",
    "var_names = myfile_nc.variables.keys()\n",
    "print(var_names)\n",
    "len(var_names)"
   ]
  },
  {
   "cell_type": "code",
   "execution_count": 4,
   "id": "1aee23ec",
   "metadata": {},
   "outputs": [],
   "source": [
    "#wv = np.arange(987.4, 1024, 2.25)\n",
    "#wv2 = [f\"{x:.1f}\" for x in wv]\n",
    "#wv2 = [float(x) for x in wv2]\n",
    "#print(wv2)"
   ]
  },
  {
   "cell_type": "code",
   "execution_count": 5,
   "id": "3733e286-74a4-4196-b78b-3bd796b9a7b6",
   "metadata": {},
   "outputs": [
    {
     "data": {
      "text/plain": [
       "300"
      ]
     },
     "execution_count": 5,
     "metadata": {},
     "output_type": "execute_result"
    }
   ],
   "source": [
    "wavelength = [387.3, 389.3, 391.3, 393.3, 395.3, 397.3, 399.3, 401.3, 403.3, 405.3, \n",
    "              407.3, 409.4, 411.4, 413.4, 415.4, 417.4, 419.4, 421.4, 423.5, 425.5, \n",
    "              427.5, 429.5, 431.5, 433.6, 435.6, 437.6, 439.6, 441.7, 443.7, 445.7, \n",
    "              447.7, 449.8, 451.8, 453.8, 455.9, 457.9, 459.9, 462.0, 464.0, 466.0, \n",
    "              468.1, 470.1, 472.1, 474.2, 476.2, 478.3, 480.3, 482.4, 484.4, 486.4, \n",
    "              488.5, 490.5, 492.6, 494.6, 496.7, 498.7, 500.8, 502.8, 504.9, 506.9, \n",
    "              509.0, 511.0, 513.1, 515.1, 517.2, 519.3, 521.3, 523.1, 525.4, 527.5,\n",
    "              529.5, 531.6, 533.7, 535.7, 537.8, 539.9, 541.9, 544.0, 546.1, 548.1, \n",
    "              550.2, 552.3, 554.3, 556.4, 558.4, 560.6, 562.7, 564.7, 566.8, 568.9, \n",
    "              571.0, 573.0, 575.1, 577.2, 579.3, 581.3, 583.4, 585.5, 587.6, 589.7, \n",
    "              591.8, 593.9, 596.0, 598.0, 600.1, 602.2, 604.3, 606.4, 608.5, 610.6, \n",
    "              612.7, 614.8, 616.9, 619.0, 621.1, 623.2, 625.3, 627.4, 629.5, 631.6, \n",
    "              633.7, 635.8, 637.9, 640.0, 642.1, 644.2, 646.3, 648.4, 650.5, 652.6, \n",
    "              654.7, 656.8, 659.0, 661.1, 663.2, 665.3, 667.4, 669.5, 671.7, 673.8, \n",
    "              675.9, 678.0, 680.1, 682.3, 684.4, 686.5, 688.6, 690.7, 692.9, 695.0, \n",
    "              697.1, 699.3, 701.4, 703.5, 705.6, 707.8, 709.9, 712.0, 714.2, 716.3, \n",
    "              718.4, 720.6, 722.7, 724.8, 727.0, 729.1, 731.3, 733.4, 735.5, 737.7, \n",
    "              739.8, 742.0, 744.1, 746.3, 748.4, 750.6, 752.7, 754.9, 757.0, 759.2, \n",
    "              761.3, 763.5, 765.6, 767.8, 769.9, 772.1, 774.3, 776.4, 778.6, 780.7, \n",
    "              782.9, 785.0, 787.2, 789.4, 791.5, 793.7, 795.9, 798.0, 800.2, 802.4, \n",
    "              804.5, 806.7, 808.9, 811.0,  813.2, 815.4, 817.6, 819.7, 821.9, 824.1, \n",
    "              826.3, 828.4, 830.6, 832.8, 835.0, 837.2, 839.3, 841.5, 843.7, 845.9, \n",
    "              848.1, 850.3, 852.4, 854.6, 856.8, 859.0, 861.2, 863.4, 865.6, 867.8, \n",
    "              870.0, 872.2, 874.3, 876.5, 878.7, 880.9, 883.1, 885.3, 887.5, 889.7, \n",
    "              891.9, 894.1, 896.3, 898.5, 900.8, 903.0,  905.2, 907.4, 909.6, 911.8, \n",
    "              914.0, 916.2, 918.4, 920.6, 922.8, 925.0, 927.3, 929.5, 931.7, 933.9, \n",
    "              936.1, 938.3,  940.6, 942.8, 945.0, 947.2, 949.5, 951.7, 953.9, 956.1, \n",
    "              958.4, 960.6, 962.8, 965.0,  967.3, 969.5, 971.7, 974.0, 976.2, 978.4, \n",
    "              980.7, 982.9, 985.1, 987.4, 989.6, 991.8, 994.1, 996.3, 998.6, 1000.8, \n",
    "              1003.0, 1005.3, 1007.5, 1009.8, 1012.0, 1014.3, 1016.5, 1018.8, 1021.0, 1023.3]   \n",
    "              \n",
    "#print(wavelength)\n",
    "#wavelength = [float(x) for x in wavelength]\n",
    "len(wavelength)"
   ]
  },
  {
   "cell_type": "code",
   "execution_count": 6,
   "id": "d6b31efe-11a8-417c-8966-9b508716bfe5",
   "metadata": {},
   "outputs": [],
   "source": [
    "start_time = time.time()\n",
    "\n",
    "# Read variables\n",
    "def get_var(name):\n",
    "    var = myfile_nc.variables[name][:]\n",
    "    var[var < 0] = -9999999\n",
    "    var[np.isnan(var)] = -9999999\n",
    "    return var\n",
    "\n",
    "Rrs_vars = {band: get_var(f'Band_{band}') for band in np.arange(1, 300, 1)}\n",
    "longitude = myfile_nc.variables['lon'][:]\n",
    "latitude = myfile_nc.variables['lat'][:]"
   ]
  },
  {
   "cell_type": "code",
   "execution_count": 7,
   "id": "9e09f0ba-2b00-4ed9-a7fa-144ce3244cee",
   "metadata": {},
   "outputs": [],
   "source": [
    "# Initialize output array\n",
    "out1 = np.full((latitude.shape[0], latitude.shape[1], 245), np.nan)"
   ]
  },
  {
   "cell_type": "code",
   "execution_count": null,
   "id": "14db4642-eb40-4bcb-b4e4-a639bd3c952f",
   "metadata": {},
   "outputs": [],
   "source": [
    "# Process data\n",
    "# Record the start time\n",
    "#start_time = time.time()\n",
    "\n",
    "for i in range(latitude.shape[0]):\n",
    "    for j in range(latitude.shape[1]):\n",
    "        myRrs = np.array([Rrs_vars[band][i, j] for band in np.arange(1, 300, 1)])\n",
    "        \n",
    "        myRrscrop = myRrs[0:244]\n",
    "        myRrsn = np.full_like(myRrscrop, np.nan)\n",
    "        valid_mask = (myRrscrop > 0) & ~np.isnan(myRrscrop)\n",
    "        if valid_mask.any():\n",
    "            myRrsn[valid_mask] = (myRrscrop[valid_mask] - np.mean(myRrscrop)) / np.std(myRrscrop)\n",
    "            \n",
    "            out1[i, j, 0:244] = myRrsn\n",
    "#            out1[i, j, 245] = (out1[i, j, 50] + out1[i, j, 51] + out1[i, j, 52] + out1[i, j, 53] + out1[i, j, 54])/5\n",
    "#            out1[i, j, 246] = (out1[i, j, 98] + out1[i, j, 99] + out1[i, j, 100] + out1[i, j, 101] + out1[i, j, 102])/5\n",
    "#            out1[i, j, 247] = (out1[i, j, 142] + out1[i, j, 143] + out1[i, j, 144] + out1[i, j, 145] + out1[i, j, 146])/5\n",
    "\n",
    "# Record the end time\n",
    "#end_time = time.time()\n",
    "\n",
    "#elapsed_time = end_time - start_time\n",
    "#print(f\"Elapsed time: {elapsed_time:.4f} seconds\")"
   ]
  },
  {
   "cell_type": "code",
   "execution_count": null,
   "id": "d08a2ee1-12ad-4c00-b092-71339cb4c49f",
   "metadata": {},
   "outputs": [],
   "source": [
    "# Create a new NetCDF file to save results\n",
    "with Dataset('20240608L1_NorsemanII_Pika_L_25-radiance-Reflectance from Radiance Data and Downwelling Irradiance Spectrum-Savitzky-Golay Smoothing_std.nc', 'w', format='NETCDF4') as nc_out:\n",
    "#with Dataset('Sentinel3_20240812_Bering_Uscores_Acat_alldata_pythonPROJ_Rv3.nc', 'w', format='NETCDF4') as nc_out:\n",
    "    # Define dimensions\n",
    "    nc_out.createDimension('lat', latitude.shape[0])\n",
    "    nc_out.createDimension('lon', latitude.shape[1])\n",
    "    nc_out.createDimension('pc', 245)\n",
    "\n",
    "    # Create variables\n",
    "    lat_var = nc_out.createVariable('latitude', 'f4', ('lat', 'lon'))\n",
    "    lon_var = nc_out.createVariable('longitude', 'f4', ('lat', 'lon'))\n",
    "    \n",
    "    pc_vars = [nc_out.createVariable(f'Band_{i}', 'f4', ('lat', 'lon')) for i in wavelength[0:244]]\n",
    "\n",
    "    # Assign data\n",
    "    lat_var[:, :] = latitude\n",
    "    lon_var[:, :] = longitude\n",
    "    for i, pc_var in enumerate(pc_vars):\n",
    "        pc_var[:, :] = out1[:, :, i]\n",
    "    \n",
    "# Record the end time\n",
    "end_time = time.time()\n",
    "\n",
    "elapsed_time = end_time - start_time\n",
    "print(f\"Elapsed time: {elapsed_time:.4f} seconds\")"
   ]
  },
  {
   "cell_type": "code",
   "execution_count": null,
   "id": "2f09a928",
   "metadata": {},
   "outputs": [],
   "source": []
  },
  {
   "cell_type": "code",
   "execution_count": null,
   "id": "289a8cb8",
   "metadata": {},
   "outputs": [],
   "source": []
  },
  {
   "cell_type": "code",
   "execution_count": null,
   "id": "f88a42d0",
   "metadata": {},
   "outputs": [],
   "source": [
    "# Create a new NetCDF file to save results\n",
    "with Dataset('20240608L1_NorsemanII_Pika_L_25-radiance-Reflectance from Radiance Data and Downwelling Irradiance Spectrum-Savitzky-Golay Smoothing_std2.nc', 'w', format='NETCDF4') as nc_out:\n",
    "#with Dataset('Sentinel3_20240812_Bering_Uscores_Acat_alldata_pythonPROJ_Rv3.nc', 'w', format='NETCDF4') as nc_out:\n",
    "    # Define dimensions\n",
    "    nc_out.createDimension('lat', latitude.shape[0])\n",
    "    nc_out.createDimension('lon', latitude.shape[1])\n",
    "    nc_out.createDimension('pc', 245)\n",
    "\n",
    "    # Create variables\n",
    "    lat_var = nc_out.createVariable('latitude', 'f4', ('lat', 'lon'))\n",
    "    lon_var = nc_out.createVariable('longitude', 'f4', ('lat', 'lon'))\n",
    "    \n",
    "    pc_vars = [nc_out.createVariable(f'Band_{i}', 'f4', ('lat', 'lon')) for i in wavelength[0:244]]\n",
    "    \n",
    "    red_var = nc_out.createVariable('red', 'f4', ('lat', 'lon'))\n",
    "    green_var = nc_out.createVariable('green', 'f4', ('lat', 'lon'))\n",
    "    blue_var = nc_out.createVariable('blue', 'f4', ('lat', 'lon'))\n",
    "        \n",
    "    # Assign data\n",
    "    lat_var[:, :] = latitude\n",
    "    lon_var[:, :] = longitude\n",
    "    \n",
    "    for i, pc_var in enumerate(pc_vars):\n",
    "        pc_var[:, :] = out1[:, :, i]\n",
    "    \n",
    "    red_var[:, :] = out1[:, :, 245]\n",
    "    green_var[:, :] = out1[:, :, 246]\n",
    "    blue_var[:, :] = out1[:, :, 247]\n",
    "    \n",
    "# Record the end time\n",
    "end_time = time.time()\n",
    "\n",
    "elapsed_time = end_time - start_time\n",
    "print(f\"Elapsed time: {elapsed_time:.4f} seconds\")"
   ]
  }
 ],
 "metadata": {
  "kernelspec": {
   "display_name": "Python 3 (ipykernel)",
   "language": "python",
   "name": "python3"
  },
  "language_info": {
   "codemirror_mode": {
    "name": "ipython",
    "version": 3
   },
   "file_extension": ".py",
   "mimetype": "text/x-python",
   "name": "python",
   "nbconvert_exporter": "python",
   "pygments_lexer": "ipython3",
   "version": "3.11.4"
  }
 },
 "nbformat": 4,
 "nbformat_minor": 5
}
